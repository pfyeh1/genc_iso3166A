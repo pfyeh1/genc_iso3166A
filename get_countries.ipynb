{
  "nbformat": 4,
  "nbformat_minor": 0,
  "metadata": {
    "colab": {
      "provenance": [],
      "authorship_tag": "ABX9TyORPTuQgzH9V6gZdbPNGjVU"
    },
    "kernelspec": {
      "name": "python3",
      "display_name": "Python 3"
    },
    "language_info": {
      "name": "python"
    }
  },
  "cells": [
    {
      "cell_type": "code",
      "source": [
        "from google.colab import drive\n",
        "drive.mount('/content/drive')"
      ],
      "metadata": {
        "colab": {
          "base_uri": "https://localhost:8080/"
        },
        "id": "DnFzPH2VMx45",
        "outputId": "09c4c4f6-c320-45db-cad4-9fefde8256e6"
      },
      "execution_count": 1,
      "outputs": [
        {
          "output_type": "stream",
          "name": "stdout",
          "text": [
            "Mounted at /content/drive\n"
          ]
        }
      ]
    },
    {
      "cell_type": "code",
      "source": [
        "import os, sys\n",
        "sys.path.append('/content/drive/My Drive/Colab Notebooks')"
      ],
      "metadata": {
        "id": "DSHe8yqpCprH"
      },
      "execution_count": 2,
      "outputs": []
    },
    {
      "cell_type": "code",
      "source": [
        "from urllib.request import urlopen\n",
        "import xml.etree.ElementTree as ET\n",
        "import pandas as pd\n",
        "import numpy as np\n",
        "import re"
      ],
      "metadata": {
        "id": "J5x8ItlkSDCl"
      },
      "execution_count": 3,
      "outputs": []
    },
    {
      "cell_type": "code",
      "source": [
        "gpath = os.path.join('/content','drive', 'My Drive', '_data')"
      ],
      "metadata": {
        "id": "MFic_87sgMkK"
      },
      "execution_count": 4,
      "outputs": []
    },
    {
      "cell_type": "code",
      "source": [
        "# endpoints available https://nsgreg.nga.mil/genc/registers.jsp\n",
        "url = \"https://nsgreg-api.nga.mil/geo-political/GENC/3/now\"\n",
        "resp = urlopen(url)"
      ],
      "metadata": {
        "id": "TXh4FsfzKXKF"
      },
      "execution_count": 5,
      "outputs": []
    },
    {
      "cell_type": "code",
      "source": [
        "# parse xml data\n",
        "tree = ET.parse(resp)\n",
        "root = tree.getroot()"
      ],
      "metadata": {
        "id": "qUAo03WvM8ey"
      },
      "execution_count": 6,
      "outputs": []
    },
    {
      "cell_type": "code",
      "source": [
        "# all the child tags\n",
        "[(i.tag, i.attrib) for i in root][:10]"
      ],
      "metadata": {
        "colab": {
          "base_uri": "https://localhost:8080/"
        },
        "id": "gG2AvfGranHQ",
        "outputId": "526cf04d-b1a1-4acc-b9ed-6baa7384068d"
      },
      "execution_count": 7,
      "outputs": [
        {
          "output_type": "execute_result",
          "data": {
            "text/plain": [
              "[('{http://api.nsgreg.nga.mil/schema/genc/3.0}authority', {}),\n",
              " ('{http://api.nsgreg.nga.mil/schema/genc/3.0}baseline', {}),\n",
              " ('{http://api.nsgreg.nga.mil/schema/genc/3.0}promulgationDate', {}),\n",
              " ('{http://api.nsgreg.nga.mil/schema/genc/3.0}GeopoliticalEntityEntry', {}),\n",
              " ('{http://api.nsgreg.nga.mil/schema/genc/3.0}GeopoliticalEntityEntry', {}),\n",
              " ('{http://api.nsgreg.nga.mil/schema/genc/3.0}GeopoliticalEntityEntry', {}),\n",
              " ('{http://api.nsgreg.nga.mil/schema/genc/3.0}GeopoliticalEntityEntry', {}),\n",
              " ('{http://api.nsgreg.nga.mil/schema/genc/3.0}GeopoliticalEntityEntry', {}),\n",
              " ('{http://api.nsgreg.nga.mil/schema/genc/3.0}GeopoliticalEntityEntry', {}),\n",
              " ('{http://api.nsgreg.nga.mil/schema/genc/3.0}GeopoliticalEntityEntry', {})]"
            ]
          },
          "metadata": {},
          "execution_count": 7
        }
      ]
    },
    {
      "cell_type": "code",
      "source": [
        "# let's look at all the elements in the tree\n",
        "[elem.tag for elem in root.iter()][:30]"
      ],
      "metadata": {
        "colab": {
          "base_uri": "https://localhost:8080/"
        },
        "id": "qD0nK2oVaOSR",
        "outputId": "19e7b379-0cdd-40ae-e035-3f84070c7644"
      },
      "execution_count": 8,
      "outputs": [
        {
          "output_type": "execute_result",
          "data": {
            "text/plain": [
              "['{http://api.nsgreg.nga.mil/schema/genc/3.0}GENCStandardBaseline',\n",
              " '{http://api.nsgreg.nga.mil/schema/genc/3.0}authority',\n",
              " '{http://api.nsgreg.nga.mil/schema/genc/3.0}baseline',\n",
              " '{http://api.nsgreg.nga.mil/schema/genc/3.0}promulgationDate',\n",
              " '{http://api.nsgreg.nga.mil/schema/genc/3.0}GeopoliticalEntityEntry',\n",
              " '{http://api.nsgreg.nga.mil/schema/genc/3.0}encoding',\n",
              " '{http://api.nsgreg.nga.mil/schema/genc/3.0/genc-cmn}char3Code',\n",
              " '{http://api.nsgreg.nga.mil/schema/genc/3.0/genc-cmn}char3CodeURISet',\n",
              " '{http://api.nsgreg.nga.mil/schema/genc/3.0/genc-cmn}codespaceURL',\n",
              " '{http://api.nsgreg.nga.mil/schema/genc/3.0/genc-cmn}codespaceURN',\n",
              " '{http://api.nsgreg.nga.mil/schema/genc/3.0/genc-cmn}codespaceURNBased',\n",
              " '{http://api.nsgreg.nga.mil/schema/genc/3.0/genc-cmn}codespaceURNBasedShort',\n",
              " '{http://api.nsgreg.nga.mil/schema/genc/3.0/genc-cmn}char2Code',\n",
              " '{http://api.nsgreg.nga.mil/schema/genc/3.0/genc-cmn}char2CodeURISet',\n",
              " '{http://api.nsgreg.nga.mil/schema/genc/3.0/genc-cmn}codespaceURL',\n",
              " '{http://api.nsgreg.nga.mil/schema/genc/3.0/genc-cmn}codespaceURN',\n",
              " '{http://api.nsgreg.nga.mil/schema/genc/3.0/genc-cmn}codespaceURNBased',\n",
              " '{http://api.nsgreg.nga.mil/schema/genc/3.0/genc-cmn}codespaceURNBasedShort',\n",
              " '{http://api.nsgreg.nga.mil/schema/genc/3.0/genc-cmn}numericCode',\n",
              " '{http://api.nsgreg.nga.mil/schema/genc/3.0/genc-cmn}numericCodeURISet',\n",
              " '{http://api.nsgreg.nga.mil/schema/genc/3.0/genc-cmn}codespaceURL',\n",
              " '{http://api.nsgreg.nga.mil/schema/genc/3.0/genc-cmn}codespaceURN',\n",
              " '{http://api.nsgreg.nga.mil/schema/genc/3.0/genc-cmn}codespaceURNBased',\n",
              " '{http://api.nsgreg.nga.mil/schema/genc/3.0/genc-cmn}codespaceURNBasedShort',\n",
              " '{http://api.nsgreg.nga.mil/schema/genc/3.0}name',\n",
              " '{http://api.nsgreg.nga.mil/schema/genc/3.0}shortName',\n",
              " '{http://api.nsgreg.nga.mil/schema/genc/3.0}fullName',\n",
              " '{http://api.nsgreg.nga.mil/schema/genc/3.0}gencStatus',\n",
              " '{http://api.nsgreg.nga.mil/schema/genc/3.0}entryDate',\n",
              " '{http://api.nsgreg.nga.mil/schema/genc/3.0}entryType']"
            ]
          },
          "metadata": {},
          "execution_count": 8
        }
      ]
    },
    {
      "cell_type": "code",
      "source": [
        "# get the data\n",
        "trigraphs = [trigraph.text for trigraph in root.iter('{http://api.nsgreg.nga.mil/schema/genc/3.0/genc-cmn}char3Code')]\n",
        "digraphs = [digraph.text for digraph in root.iter('{http://api.nsgreg.nga.mil/schema/genc/3.0/genc-cmn}char2Code')]\n",
        "shortnames = [shortname.text for shortname in root.iter('{http://api.nsgreg.nga.mil/schema/genc/3.0}shortName')]"
      ],
      "metadata": {
        "id": "I5Op-Yr9bmyO"
      },
      "execution_count": 9,
      "outputs": []
    },
    {
      "cell_type": "code",
      "source": [
        "# quick check of lengths of the lists\n",
        "[len(i) for i in [trigraphs, digraphs, shortnames]]"
      ],
      "metadata": {
        "colab": {
          "base_uri": "https://localhost:8080/"
        },
        "id": "ERnF3sBlW8bF",
        "outputId": "3b746222-eb90-4f92-e369-b22faf109892"
      },
      "execution_count": 10,
      "outputs": [
        {
          "output_type": "execute_result",
          "data": {
            "text/plain": [
              "[284, 284, 284]"
            ]
          },
          "metadata": {},
          "execution_count": 10
        }
      ]
    },
    {
      "cell_type": "code",
      "source": [
        "# put lists into dataframe\n",
        "df = pd.DataFrame({\n",
        "    \"Country\": shortnames,\n",
        "    \"Digraph\": digraphs,\n",
        "    \"Trigraph\": trigraphs})"
      ],
      "metadata": {
        "id": "5n9nPKj1evE8"
      },
      "execution_count": 11,
      "outputs": []
    },
    {
      "cell_type": "code",
      "source": [
        "df.head()"
      ],
      "metadata": {
        "colab": {
          "base_uri": "https://localhost:8080/",
          "height": 204
        },
        "id": "rD9z0Y14gCwc",
        "outputId": "188f8436-32bb-41c2-ffb0-e50eacd169ed"
      },
      "execution_count": 12,
      "outputs": [
        {
          "output_type": "execute_result",
          "data": {
            "text/plain": [
              "         Country Digraph Trigraph\n",
              "0    Afghanistan      AF      AFG\n",
              "1       Akrotiri      QZ      XQZ\n",
              "2  Åland Islands      AX      ALA\n",
              "3        Albania      AL      ALB\n",
              "4        Algeria      DZ      DZA"
            ],
            "text/html": [
              "\n",
              "  <div id=\"df-87571d99-224a-4ca5-a626-f8c98138f67d\" class=\"colab-df-container\">\n",
              "    <div>\n",
              "<style scoped>\n",
              "    .dataframe tbody tr th:only-of-type {\n",
              "        vertical-align: middle;\n",
              "    }\n",
              "\n",
              "    .dataframe tbody tr th {\n",
              "        vertical-align: top;\n",
              "    }\n",
              "\n",
              "    .dataframe thead th {\n",
              "        text-align: right;\n",
              "    }\n",
              "</style>\n",
              "<table border=\"1\" class=\"dataframe\">\n",
              "  <thead>\n",
              "    <tr style=\"text-align: right;\">\n",
              "      <th></th>\n",
              "      <th>Country</th>\n",
              "      <th>Digraph</th>\n",
              "      <th>Trigraph</th>\n",
              "    </tr>\n",
              "  </thead>\n",
              "  <tbody>\n",
              "    <tr>\n",
              "      <th>0</th>\n",
              "      <td>Afghanistan</td>\n",
              "      <td>AF</td>\n",
              "      <td>AFG</td>\n",
              "    </tr>\n",
              "    <tr>\n",
              "      <th>1</th>\n",
              "      <td>Akrotiri</td>\n",
              "      <td>QZ</td>\n",
              "      <td>XQZ</td>\n",
              "    </tr>\n",
              "    <tr>\n",
              "      <th>2</th>\n",
              "      <td>Åland Islands</td>\n",
              "      <td>AX</td>\n",
              "      <td>ALA</td>\n",
              "    </tr>\n",
              "    <tr>\n",
              "      <th>3</th>\n",
              "      <td>Albania</td>\n",
              "      <td>AL</td>\n",
              "      <td>ALB</td>\n",
              "    </tr>\n",
              "    <tr>\n",
              "      <th>4</th>\n",
              "      <td>Algeria</td>\n",
              "      <td>DZ</td>\n",
              "      <td>DZA</td>\n",
              "    </tr>\n",
              "  </tbody>\n",
              "</table>\n",
              "</div>\n",
              "    <div class=\"colab-df-buttons\">\n",
              "\n",
              "  <div class=\"colab-df-container\">\n",
              "    <button class=\"colab-df-convert\" onclick=\"convertToInteractive('df-87571d99-224a-4ca5-a626-f8c98138f67d')\"\n",
              "            title=\"Convert this dataframe to an interactive table.\"\n",
              "            style=\"display:none;\">\n",
              "\n",
              "  <svg xmlns=\"http://www.w3.org/2000/svg\" height=\"24px\" viewBox=\"0 -960 960 960\">\n",
              "    <path d=\"M120-120v-720h720v720H120Zm60-500h600v-160H180v160Zm220 220h160v-160H400v160Zm0 220h160v-160H400v160ZM180-400h160v-160H180v160Zm440 0h160v-160H620v160ZM180-180h160v-160H180v160Zm440 0h160v-160H620v160Z\"/>\n",
              "  </svg>\n",
              "    </button>\n",
              "\n",
              "  <style>\n",
              "    .colab-df-container {\n",
              "      display:flex;\n",
              "      gap: 12px;\n",
              "    }\n",
              "\n",
              "    .colab-df-convert {\n",
              "      background-color: #E8F0FE;\n",
              "      border: none;\n",
              "      border-radius: 50%;\n",
              "      cursor: pointer;\n",
              "      display: none;\n",
              "      fill: #1967D2;\n",
              "      height: 32px;\n",
              "      padding: 0 0 0 0;\n",
              "      width: 32px;\n",
              "    }\n",
              "\n",
              "    .colab-df-convert:hover {\n",
              "      background-color: #E2EBFA;\n",
              "      box-shadow: 0px 1px 2px rgba(60, 64, 67, 0.3), 0px 1px 3px 1px rgba(60, 64, 67, 0.15);\n",
              "      fill: #174EA6;\n",
              "    }\n",
              "\n",
              "    .colab-df-buttons div {\n",
              "      margin-bottom: 4px;\n",
              "    }\n",
              "\n",
              "    [theme=dark] .colab-df-convert {\n",
              "      background-color: #3B4455;\n",
              "      fill: #D2E3FC;\n",
              "    }\n",
              "\n",
              "    [theme=dark] .colab-df-convert:hover {\n",
              "      background-color: #434B5C;\n",
              "      box-shadow: 0px 1px 3px 1px rgba(0, 0, 0, 0.15);\n",
              "      filter: drop-shadow(0px 1px 2px rgba(0, 0, 0, 0.3));\n",
              "      fill: #FFFFFF;\n",
              "    }\n",
              "  </style>\n",
              "\n",
              "    <script>\n",
              "      const buttonEl =\n",
              "        document.querySelector('#df-87571d99-224a-4ca5-a626-f8c98138f67d button.colab-df-convert');\n",
              "      buttonEl.style.display =\n",
              "        google.colab.kernel.accessAllowed ? 'block' : 'none';\n",
              "\n",
              "      async function convertToInteractive(key) {\n",
              "        const element = document.querySelector('#df-87571d99-224a-4ca5-a626-f8c98138f67d');\n",
              "        const dataTable =\n",
              "          await google.colab.kernel.invokeFunction('convertToInteractive',\n",
              "                                                    [key], {});\n",
              "        if (!dataTable) return;\n",
              "\n",
              "        const docLinkHtml = 'Like what you see? Visit the ' +\n",
              "          '<a target=\"_blank\" href=https://colab.research.google.com/notebooks/data_table.ipynb>data table notebook</a>'\n",
              "          + ' to learn more about interactive tables.';\n",
              "        element.innerHTML = '';\n",
              "        dataTable['output_type'] = 'display_data';\n",
              "        await google.colab.output.renderOutput(dataTable, element);\n",
              "        const docLink = document.createElement('div');\n",
              "        docLink.innerHTML = docLinkHtml;\n",
              "        element.appendChild(docLink);\n",
              "      }\n",
              "    </script>\n",
              "  </div>\n",
              "\n",
              "\n",
              "<div id=\"df-49b110ea-4038-4870-9f77-4682bd25c5a8\">\n",
              "  <button class=\"colab-df-quickchart\" onclick=\"quickchart('df-49b110ea-4038-4870-9f77-4682bd25c5a8')\"\n",
              "            title=\"Suggest charts\"\n",
              "            style=\"display:none;\">\n",
              "\n",
              "<svg xmlns=\"http://www.w3.org/2000/svg\" height=\"24px\"viewBox=\"0 0 24 24\"\n",
              "     width=\"24px\">\n",
              "    <g>\n",
              "        <path d=\"M19 3H5c-1.1 0-2 .9-2 2v14c0 1.1.9 2 2 2h14c1.1 0 2-.9 2-2V5c0-1.1-.9-2-2-2zM9 17H7v-7h2v7zm4 0h-2V7h2v10zm4 0h-2v-4h2v4z\"/>\n",
              "    </g>\n",
              "</svg>\n",
              "  </button>\n",
              "\n",
              "<style>\n",
              "  .colab-df-quickchart {\n",
              "      --bg-color: #E8F0FE;\n",
              "      --fill-color: #1967D2;\n",
              "      --hover-bg-color: #E2EBFA;\n",
              "      --hover-fill-color: #174EA6;\n",
              "      --disabled-fill-color: #AAA;\n",
              "      --disabled-bg-color: #DDD;\n",
              "  }\n",
              "\n",
              "  [theme=dark] .colab-df-quickchart {\n",
              "      --bg-color: #3B4455;\n",
              "      --fill-color: #D2E3FC;\n",
              "      --hover-bg-color: #434B5C;\n",
              "      --hover-fill-color: #FFFFFF;\n",
              "      --disabled-bg-color: #3B4455;\n",
              "      --disabled-fill-color: #666;\n",
              "  }\n",
              "\n",
              "  .colab-df-quickchart {\n",
              "    background-color: var(--bg-color);\n",
              "    border: none;\n",
              "    border-radius: 50%;\n",
              "    cursor: pointer;\n",
              "    display: none;\n",
              "    fill: var(--fill-color);\n",
              "    height: 32px;\n",
              "    padding: 0;\n",
              "    width: 32px;\n",
              "  }\n",
              "\n",
              "  .colab-df-quickchart:hover {\n",
              "    background-color: var(--hover-bg-color);\n",
              "    box-shadow: 0 1px 2px rgba(60, 64, 67, 0.3), 0 1px 3px 1px rgba(60, 64, 67, 0.15);\n",
              "    fill: var(--button-hover-fill-color);\n",
              "  }\n",
              "\n",
              "  .colab-df-quickchart-complete:disabled,\n",
              "  .colab-df-quickchart-complete:disabled:hover {\n",
              "    background-color: var(--disabled-bg-color);\n",
              "    fill: var(--disabled-fill-color);\n",
              "    box-shadow: none;\n",
              "  }\n",
              "\n",
              "  .colab-df-spinner {\n",
              "    border: 2px solid var(--fill-color);\n",
              "    border-color: transparent;\n",
              "    border-bottom-color: var(--fill-color);\n",
              "    animation:\n",
              "      spin 1s steps(1) infinite;\n",
              "  }\n",
              "\n",
              "  @keyframes spin {\n",
              "    0% {\n",
              "      border-color: transparent;\n",
              "      border-bottom-color: var(--fill-color);\n",
              "      border-left-color: var(--fill-color);\n",
              "    }\n",
              "    20% {\n",
              "      border-color: transparent;\n",
              "      border-left-color: var(--fill-color);\n",
              "      border-top-color: var(--fill-color);\n",
              "    }\n",
              "    30% {\n",
              "      border-color: transparent;\n",
              "      border-left-color: var(--fill-color);\n",
              "      border-top-color: var(--fill-color);\n",
              "      border-right-color: var(--fill-color);\n",
              "    }\n",
              "    40% {\n",
              "      border-color: transparent;\n",
              "      border-right-color: var(--fill-color);\n",
              "      border-top-color: var(--fill-color);\n",
              "    }\n",
              "    60% {\n",
              "      border-color: transparent;\n",
              "      border-right-color: var(--fill-color);\n",
              "    }\n",
              "    80% {\n",
              "      border-color: transparent;\n",
              "      border-right-color: var(--fill-color);\n",
              "      border-bottom-color: var(--fill-color);\n",
              "    }\n",
              "    90% {\n",
              "      border-color: transparent;\n",
              "      border-bottom-color: var(--fill-color);\n",
              "    }\n",
              "  }\n",
              "</style>\n",
              "\n",
              "  <script>\n",
              "    async function quickchart(key) {\n",
              "      const quickchartButtonEl =\n",
              "        document.querySelector('#' + key + ' button');\n",
              "      quickchartButtonEl.disabled = true;  // To prevent multiple clicks.\n",
              "      quickchartButtonEl.classList.add('colab-df-spinner');\n",
              "      try {\n",
              "        const charts = await google.colab.kernel.invokeFunction(\n",
              "            'suggestCharts', [key], {});\n",
              "      } catch (error) {\n",
              "        console.error('Error during call to suggestCharts:', error);\n",
              "      }\n",
              "      quickchartButtonEl.classList.remove('colab-df-spinner');\n",
              "      quickchartButtonEl.classList.add('colab-df-quickchart-complete');\n",
              "    }\n",
              "    (() => {\n",
              "      let quickchartButtonEl =\n",
              "        document.querySelector('#df-49b110ea-4038-4870-9f77-4682bd25c5a8 button');\n",
              "      quickchartButtonEl.style.display =\n",
              "        google.colab.kernel.accessAllowed ? 'block' : 'none';\n",
              "    })();\n",
              "  </script>\n",
              "</div>\n",
              "    </div>\n",
              "  </div>\n"
            ]
          },
          "metadata": {},
          "execution_count": 12
        }
      ]
    },
    {
      "cell_type": "code",
      "source": [
        "df.to_csv(os.path.join(gpath, 'country_refdata.csv'), index = None, encoding = 'utf-8')"
      ],
      "metadata": {
        "id": "Hf9wDdYDgDnx"
      },
      "execution_count": 17,
      "outputs": []
    }
  ]
}